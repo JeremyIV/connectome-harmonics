{
 "cells": [
  {
   "cell_type": "code",
   "execution_count": 6,
   "id": "7ab04ad7",
   "metadata": {},
   "outputs": [
    {
     "ename": "SyntaxError",
     "evalue": "invalid syntax (2180132176.py, line 3)",
     "output_type": "error",
     "traceback": [
      "\u001b[0;36m  File \u001b[0;32m\"/tmp/ipykernel_87/2180132176.py\"\u001b[0;36m, line \u001b[0;32m3\u001b[0m\n\u001b[0;31m    jovyan@jupyter-saikiersarsky:~$ git clone git@github.com/sai-del-cielo/connectomemapper3.git\u001b[0m\n\u001b[0m                                  ^\u001b[0m\n\u001b[0;31mSyntaxError\u001b[0m\u001b[0;31m:\u001b[0m invalid syntax\n"
     ]
    }
   ],
   "source": [
    "# git clone https://github.com/sai-del-cielo/connectomemapper3.git\n",
    "\n",
    "# jovyan@jupyter-saikiersarsky:~$ git clone git@github.com/sai-del-cielo/connectomemapper3.git"
   ]
  },
  {
   "cell_type": "code",
   "execution_count": 19,
   "id": "1642542a",
   "metadata": {},
   "outputs": [
    {
     "name": "stdout",
     "output_type": "stream",
     "text": [
      "Collecting package metadata (repodata.json): done\n",
      "Solving environment: / "
     ]
    }
   ],
   "source": [
    "!conda env create -f ./connectome-harmonics/tutorial_environment.yml"
   ]
  },
  {
   "cell_type": "code",
   "execution_count": null,
   "id": "b5d27c74",
   "metadata": {},
   "outputs": [],
   "source": []
  }
 ],
 "metadata": {
  "kernelspec": {
   "display_name": "Python 3",
   "language": "python",
   "name": "python3"
  },
  "language_info": {
   "codemirror_mode": {
    "name": "ipython",
    "version": 3
   },
   "file_extension": ".py",
   "mimetype": "text/x-python",
   "name": "python",
   "nbconvert_exporter": "python",
   "pygments_lexer": "ipython3",
   "version": "3.9.0"
  }
 },
 "nbformat": 4,
 "nbformat_minor": 5
}
